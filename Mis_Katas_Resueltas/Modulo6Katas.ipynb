{
 "cells": [
  {
   "cell_type": "markdown",
   "metadata": {},
   "source": [
    "# Ejercicio1: Crear y usar listas de Python\n",
    "En primer lugar, crea una variable denominada `planets`. Agrega los ocho planetas (sin Plutón) a la lista. A continuación, muestra el número de planetas."
   ]
  },
  {
   "cell_type": "code",
   "execution_count": 23,
   "metadata": {},
   "outputs": [
    {
     "name": "stdout",
     "output_type": "stream",
     "text": [
      "['Mercury', 'Venus', 'Earth', 'Mars', 'Jupiter', 'Saturn', 'Neptune']\n",
      "actualmente hay:  8 planetas en el sistema solar y  Pluto es el ultimo\n"
     ]
    }
   ],
   "source": [
    "# Creamos la lista planets y la mostramos\n",
    "planets =['Mercury', 'Venus', 'Earth', 'Mars', 'Jupiter', 'Saturn', 'Neptune']\n",
    "\n",
    "print(planets)\n",
    "\n",
    "#Agrega a Plutón a la lista que creaste. Luego muestra tanto el número de planetas como el último planeta de la lista.\n",
    "# Agregamos a plutón y mostramos el último elemento\n",
    "planets.append('Pluto')\n",
    "num_planets=len(planets)\n",
    "print('actualmente hay: ', num_planets, 'planetas en el sistema solar y ',planets[-1], 'es el ultimo')"
   ]
  },
  {
   "cell_type": "markdown",
   "metadata": {},
   "source": [
    "## Ejercicio 2: Trabajando con datos de una lista\n",
    "\n",
    "### Usar slices para recuperar partes de una lista\n",
    "Es posible que debas trabajar con diferentes secciones de una lista. En nuestro ejemplo, queremos mostrar planetas más cerca y más lejos del sol de un planeta que el usuario ingresa por teclado.\n",
    "\n",
    "Comienza agregando el código para crear una lista con los planetas."
   ]
  },
  {
   "cell_type": "code",
   "execution_count": 24,
   "metadata": {},
   "outputs": [
    {
     "name": "stdout",
     "output_type": "stream",
     "text": [
      "el planeta Mars se encuentra en la pocision 3\n",
      "estos son los planetas mas cercanos al sol desde  Mars\n",
      "['Mercury', 'Venus', 'Earth']\n",
      "estos son los planetas mas alejados al sol desde  Mars\n",
      "['Jupiter', 'Saturn', 'Neptune']\n"
     ]
    }
   ],
   "source": [
    "#lista de planetas\n",
    "planets =['Mercury', 'Venus', 'Earth', 'Mars', 'Jupiter', 'Saturn', 'Neptune']\n",
    "\n",
    "#solicitamos el nombre del planeta\n",
    "pedir_planet=input('dame un nombre de un planeta en ingles (escribe la primer letra en Mayuscula)')\n",
    "#Busca el plnaeta en la lista\n",
    "\n",
    "search_planet=planets.index(pedir_planet)\n",
    "print (\"el planeta\",pedir_planet,\"se encuentra en la pocision\", search_planet)\n",
    "#muestra los planetas mas cercanos al sol\n",
    "\n",
    "print(\"estos son los planetas mas cercanos al sol desde \",pedir_planet)\n",
    "print(planets[0:search_planet])\n",
    "\n",
    "#Muestra los mas lejanos al sol\n",
    "\n",
    "print(\"estos son los planetas mas alejados al sol desde \",pedir_planet)\n",
    "print(planets[search_planet+1:])\n"
   ]
  }
 ],
 "metadata": {
  "interpreter": {
   "hash": "142c132375d45d042b4ee03c99aa0dff625bf9535b8c75d0bb1c2b8c6d45cb26"
  },
  "kernelspec": {
   "display_name": "Python 3.10.2 64-bit",
   "language": "python",
   "name": "python3"
  },
  "language_info": {
   "codemirror_mode": {
    "name": "ipython",
    "version": 3
   },
   "file_extension": ".py",
   "mimetype": "text/x-python",
   "name": "python",
   "nbconvert_exporter": "python",
   "pygments_lexer": "ipython3",
   "version": "3.10.2"
  },
  "orig_nbformat": 4
 },
 "nbformat": 4,
 "nbformat_minor": 2
}
