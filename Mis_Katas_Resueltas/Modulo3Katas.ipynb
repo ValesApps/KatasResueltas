{
 "cells": [
  {
   "cell_type": "markdown",
   "metadata": {},
   "source": [
    "## Ejecicio - Escribir declaraciones if,else y elseif"
   ]
  },
  {
   "cell_type": "code",
   "execution_count": 1,
   "metadata": {},
   "outputs": [
    {
     "name": "stdout",
     "output_type": "stream",
     "text": [
      "¡todo termino señores, no tenemos escapatoria!\n"
     ]
    }
   ],
   "source": [
    "# añadir el codigo necesario para crear una variable que guarde la velocidad del asteroide\n",
    "# Escribir una expresion de prueba para calcular si necesita una advertencia\n",
    "# agregue las instrucciones que se ejecutaran si la expresion de prueba es true o false\n",
    "\n",
    "vel_asteroide = 49\n",
    "\n",
    "if vel_asteroide > 25:\n",
    "    print(\"¡todo termino señores, no tenemos escapatoria!\")\n",
    "else:\n",
    "    print(\"Todo bien Señores, Sigan con su dia\")"
   ]
  },
  {
   "cell_type": "code",
   "execution_count": 5,
   "metadata": {},
   "outputs": [
    {
     "name": "stdout",
     "output_type": "stream",
     "text": [
      "no hay nada que ver aqui\n"
     ]
    }
   ],
   "source": [
    "#añadir el codigo necesario para crear una variable para el asteroide que viaja a 19 km/s\n",
    "#escribe varias expresiones de prueba para determinar si puedes ver el rayo de luz\n",
    "#agrega las instrucciones que se ejecutaran si las expresiones de prueba son True o False\n",
    "\n",
    "vel_asteroide = 19\n",
    "if vel_asteroide > 20:\n",
    "    print(\"miren.. es la luz fantaaaasma!!!\")\n",
    "elif vel_asteroide == 20:\n",
    "    print(\"miren la luz fantasma en el cielo!!\")\n",
    "else:\n",
    "    print(\"no hay nada que ver aqui\")"
   ]
  },
  {
   "cell_type": "markdown",
   "metadata": {},
   "source": [
    "## Ejercicio: Uso de operadores and y or"
   ]
  },
  {
   "cell_type": "code",
   "execution_count": 25,
   "metadata": {},
   "outputs": [
    {
     "name": "stdout",
     "output_type": "stream",
     "text": [
      "no hay nada que ver aqui\n"
     ]
    }
   ],
   "source": [
    "# agrega el codigo para crear nuevas variables para la velocidad y el tamaño del asteroide\n",
    "# para probar el codigo prueba con varias velocidades y tamaños\n",
    "#escribe varias expresiones de prueba o combinaciones de expreciones de prueba para determinar que mensaje se debe eviar a a tierra\n",
    "vel_asteroide = 0\n",
    "tam_asteroide = 0\n",
    "\n",
    "vel_asteroide = int(input(\"A que velocidad va el asteroide? \"))\n",
    "tam_asteroide = int(input(\"de que tamaño es el asteroide? \"))\n",
    "#print(vel_asteroide,tam_asteroide)\n",
    "if vel_asteroide > 25 and tam_asteroide > 25:\n",
    "    print(\"¡todo termino señores, no tenemos escapatoria!\")\n",
    "elif vel_asteroide >= 20:\n",
    "    print(\"miren.. es la luz fantaaaasma!!!\")\n",
    "elif tam_asteroide < 25:\n",
    "    print(\"no hay nada que ver aqui\")\n",
    "else:\n",
    "    print(\"no hay nada que ver aqui\")\n",
    "\n",
    "\n",
    "\n"
   ]
  }
 ],
 "metadata": {
  "interpreter": {
   "hash": "142c132375d45d042b4ee03c99aa0dff625bf9535b8c75d0bb1c2b8c6d45cb26"
  },
  "kernelspec": {
   "display_name": "Python 3.10.2 64-bit",
   "language": "python",
   "name": "python3"
  },
  "language_info": {
   "codemirror_mode": {
    "name": "ipython",
    "version": 3
   },
   "file_extension": ".py",
   "mimetype": "text/x-python",
   "name": "python",
   "nbconvert_exporter": "python",
   "pygments_lexer": "ipython3",
   "version": "3.10.2"
  },
  "orig_nbformat": 4
 },
 "nbformat": 4,
 "nbformat_minor": 2
}
